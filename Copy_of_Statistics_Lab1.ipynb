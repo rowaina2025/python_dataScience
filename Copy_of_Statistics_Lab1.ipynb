{
  "nbformat": 4,
  "nbformat_minor": 0,
  "metadata": {
    "colab": {
      "name": "Copy of Statistics_Lab1.ipynb",
      "provenance": [],
      "collapsed_sections": [],
      "include_colab_link": true
    },
    "kernelspec": {
      "display_name": "Python 3",
      "language": "python",
      "name": "python3"
    },
    "language_info": {
      "codemirror_mode": {
        "name": "ipython",
        "version": 3
      },
      "file_extension": ".py",
      "mimetype": "text/x-python",
      "name": "python",
      "nbconvert_exporter": "python",
      "pygments_lexer": "ipython3",
      "version": "3.6.3"
    }
  },
  "cells": [
    {
      "cell_type": "markdown",
      "metadata": {
        "id": "view-in-github",
        "colab_type": "text"
      },
      "source": [
        "<a href=\"https://colab.research.google.com/github/rowaina2025/python_dataScience/blob/ourCodes/Copy_of_Statistics_Lab1.ipynb\" target=\"_parent\"><img src=\"https://colab.research.google.com/assets/colab-badge.svg\" alt=\"Open In Colab\"/></a>"
      ]
    },
    {
      "cell_type": "markdown",
      "metadata": {
        "id": "7EinjAkHU3P1"
      },
      "source": [
        "# Statistics Lab1"
      ]
    },
    {
      "cell_type": "markdown",
      "metadata": {
        "id": "vOuurNeVU2Nv"
      },
      "source": [
        "## Imports"
      ]
    },
    {
      "cell_type": "code",
      "metadata": {
        "id": "ku8v1gpvVIFT"
      },
      "source": [
        "import matplotlib.pyplot as plt #Python 2D plotting library\n",
        "from scipy.stats import norm #Python package for distributions\n",
        "import numpy as np #Python package for powerful N-dimensional array operations\n",
        "\n",
        "plt.style.use('seaborn') # pretty matplotlib plots\n",
        "plt.rcParams['figure.figsize'] = (12, 8)"
      ],
      "execution_count": 30,
      "outputs": []
    },
    {
      "cell_type": "markdown",
      "metadata": {
        "id": "L0uivaMm6vgV"
      },
      "source": [
        "## Distribution Operations"
      ]
    },
    {
      "cell_type": "code",
      "metadata": {
        "id": "g16cTGoxGtvK"
      },
      "source": [
        "def generate_data(x_min = -5.0, x_max = 5.0, num = 1000):\n",
        "   \n",
        "    x = np.linspace(x_min, x_max, num) #Hint: try np.linspace() method\n",
        "    return x"
      ],
      "execution_count": null,
      "outputs": []
    },
    {
      "cell_type": "code",
      "metadata": {
        "id": "KxhJt44ns1Tq"
      },
      "source": [
        "def compute_mean_std(x):\n",
        "    \n",
        "    mean = np.mean(x) #Hint: use np for this purpose\n",
        "    std = np.std(x) #Hint: use np for this purpose\n",
        "    return mean, std"
      ],
      "execution_count": null,
      "outputs": []
    },
    {
      "cell_type": "code",
      "metadata": {
        "id": "smXxFLdeuNGJ"
      },
      "source": [
        "def get_normal_pdf(x, mean = 0, std = 1.0):\n",
        "    \n",
        "    y = norm.pdf(x, mean, std)     #Try to write your own pdf expression. Otherwise, you can use the built-in one\n",
        "    \n",
        "    return y"
      ],
      "execution_count": null,
      "outputs": []
    },
    {
      "cell_type": "code",
      "metadata": {
        "id": "IKpQvP0F8wYq"
      },
      "source": [
        "def standardize(y):\n",
        "    mean, std = compute_mean_std(y)\n",
        "    z = (y-mean)/std\n",
        "    return z"
      ],
      "execution_count": null,
      "outputs": []
    },
    {
      "cell_type": "markdown",
      "metadata": {
        "id": "dRvtL-ATVKrk"
      },
      "source": [
        "## Normal Distribution Plot"
      ]
    },
    {
      "cell_type": "markdown",
      "metadata": {
        "id": "TtGDb95ZJYH_"
      },
      "source": [
        "It's required to implement a function that plots normal distribution for a given array of numbers distributed over a given range.\n",
        "\n",
        "Please, follow the following signature:"
      ]
    },
    {
      "cell_type": "code",
      "metadata": {
        "id": "poJi4r_UVOpO"
      },
      "source": [
        "def plot_normal(x, y = None):#, xlim_min = -1.0, xlim_max = 1.0, ylim_min = 0, ylim_max = 1.0):\n",
        "    \"\"\"\n",
        "    Plots the pdf of the normal (Gaussian) distribution\n",
        "\n",
        "    Parameters:\n",
        "    x (array-like): the data points to be plotted\n",
        "    xlim_min (float): the lower bound of x axis\n",
        "    xlim_max (float): the upper bound of x axis\n",
        "    ylim_min (float): the lower bound of y axis\n",
        "    ylim_max (float): the upper bound of y axis\n",
        "    \"\"\"\n",
        "    \n",
        "    if y is None:\n",
        "        y = get_normal_pdf(x)\n",
        "    plt.xlim(x_min,x_max)\n",
        "    plt.ylim(ylim_min,ylim_max)\n",
        "    plt.plot(x,y , color = 'blue', linewidth=4)      \n",
        "    plt.show()\n"
      ],
      "execution_count": null,
      "outputs": []
    },
    {
      "cell_type": "markdown",
      "metadata": {
        "id": "rXV5jNUf-0Vk"
      },
      "source": [
        "## Driver Code"
      ]
    },
    {
      "cell_type": "code",
      "metadata": {
        "id": "n1k5iy6CWTqp",
        "colab": {
          "base_uri": "https://localhost:8080/",
          "height": 513
        },
        "outputId": "c2d1b294-1f52-4a1d-f0bf-a75218d4ed5c"
      },
      "source": [
        "x_min = 0.5\n",
        "x_max = 0.75\n",
        "x = generate_data(x_min, x_max, 100000)\n",
        "mean, std = compute_mean_std(x)\n",
        "\n",
        "y = get_normal_pdf(x, mean, std)\n",
        "ylim_max = np.max(y) + np.max(y)/4\n",
        "ylim_min = np.min(y)\n",
        "plot_normal(x, y) #, x_min, x_max, ylim_min, ylim_max)\n",
        "\n",
        "z = standardize(x)\n",
        "\n",
        "x_min = z[0]\n",
        "x_max = z[len(z) - 1]\n",
        "\n",
        "new_mean, new_std = compute_mean_std(z)\n",
        "\n",
        "new_y = get_normal_pdf(z, new_mean, new_std)\n",
        "x_min = np.min(z) \n",
        "x_max = np.max(z)\n",
        "ylim_min = np.min(new_y)\n",
        "ylim_max = np.max(new_y) + np.max(new_y)/4\n",
        "plot_normal(z, new_y)#, x_min, x_max, ylim_min, ylim_max)"
      ],
      "execution_count": null,
      "outputs": [
        {
          "output_type": "display_data",
          "data": {
            "text/plain": [
              "<Figure size 432x288 with 1 Axes>"
            ],
            "image/png": "[encoded data removed]"
          },
          "metadata": {
            "needs_background": "light"
          }
        },
        {
          "output_type": "display_data",
          "data": {
            "text/plain": [
              "<Figure size 432x288 with 1 Axes>"
            ],
            "image/png": "[encoded data removed]"
          },
          "metadata": {
            "needs_background": "light"
          }
        }
      ]
    },
    {
      "cell_type": "markdown",
      "metadata": {
        "id": "89rmO1NkG9G1"
      },
      "source": [
        "## Bonus Part"
      ]
    },
    {
      "cell_type": "markdown",
      "metadata": {
        "id": "HikLkYe1K_Y_"
      },
      "source": [
        "### CDF "
      ]
    },
    {
      "cell_type": "code",
      "metadata": {
        "id": "wf-8aEeq72Rm"
      },
      "source": [
        "def compute_inverse_cdf(p, mean = 0, std = 1):\n",
        "    \"\"\"\n",
        "    Computes the inverse of CDF, where P{X <= x} = p\n",
        "\n",
        "    Parameters:\n",
        "    p (float): the value of the CDF, where 0 <= p <= 1\n",
        "    mean a.k.a µ (float): the mean of the normal distribution\n",
        "    std a.k.a σ (float): the standard deviation of the normal distribution mean\n",
        "\n",
        "    Returns:\n",
        "    x (float): the point that satisfies the equation P{X <= x} = p\n",
        "    \"\"\"\n",
        "    x = norm.ppf(p, mean, std) #value of x at CDF = p\n",
        "    return x"
      ],
      "execution_count": 46,
      "outputs": []
    },
    {
      "cell_type": "markdown",
      "metadata": {
        "id": "0r4z0XVtLEgt"
      },
      "source": [
        "### CDF Plot"
      ]
    },
    {
      "cell_type": "code",
      "metadata": {
        "id": "itF_SPz01xJM"
      },
      "source": [
        "def plot_cdf(x, cdf=0.5):\n",
        "    \"\"\"\n",
        "    Plots the cdf of the normal (Gaussian) distribution at a given certain point\n",
        "\n",
        "    Parameters:\n",
        "    x (array-like): the data points to be plotted\n",
        "    cdf: the plot shaded percentage that representins the normal distribution cdf\n",
        "    \"\"\"\n",
        "    Y = norm.cdf(x) #Y --> y-axis   x --> x-axis \n",
        "    inv =compute_inverse_cdf(cdf, np.mean(x), np.std(x)) # inv --> x axis value   cdf --> y-axis value\n",
        "    plt.plot(x,Y, 'bo', c = 'r')\n",
        "    plt.plot([inv,inv],[np.min(Y),cdf], color = 'y' , linewidth = 2)\n",
        "    plt.plot([np.min(x),inv],[cdf,cdf], color = 'y' , linewidth = 2)\n",
        "    plt.show()\n",
        "    plt.ylim(0,cdf)\n",
        "    plt.xlim(np.min(x),inv)\n",
        "    plt.plot(x,Y, 'bo')\n",
        "    plt.xlabel('X')\n",
        "    plt.ylabel('PDF')\n",
        "    plt.show()"
      ],
      "execution_count": 87,
      "outputs": []
    },
    {
      "cell_type": "markdown",
      "metadata": {
        "id": "9i9wwFV0HH3-"
      },
      "source": [
        "### Driver Code"
      ]
    },
    {
      "cell_type": "code",
      "metadata": {
        "id": "EZpZgCxZRqRv",
        "colab": {
          "base_uri": "https://localhost:8080/",
          "height": 969
        },
        "outputId": "2490a259-a03b-4bf5-c15f-c8e2ac8cbfb8"
      },
      "source": [
        "percent = 0.8\n",
        "x = generate_data(x_min, x_max, 10000)\n",
        "plot_cdf(x, percent)"
      ],
      "execution_count": 88,
      "outputs": [
        {
          "output_type": "display_data",
          "data": {
            "text/plain": [
              "<Figure size 864x576 with 1 Axes>"
            ],
            "image/png": "[encoded data removed]"
          },
          "metadata": {}
        },
        {
          "output_type": "display_data",
          "data": {
            "text/plain": [
              "<Figure size 864x576 with 1 Axes>"
            ],
            "image/png": "[encoded data removed]"
          },
          "metadata": {}
        }
      ]
    }
  ]
}